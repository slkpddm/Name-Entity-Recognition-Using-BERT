{
 "cells": [
  {
   "cell_type": "code",
   "execution_count": 1,
   "metadata": {},
   "outputs": [],
   "source": [
    "import os"
   ]
  },
  {
   "cell_type": "code",
   "execution_count": 2,
   "metadata": {},
   "outputs": [
    {
     "data": {
      "text/plain": [
       "'c:\\\\Users\\\\slkpd\\\\Name-Entity-Recognition-Using-BERT\\\\research'"
      ]
     },
     "execution_count": 2,
     "metadata": {},
     "output_type": "execute_result"
    }
   ],
   "source": [
    "pwd"
   ]
  },
  {
   "cell_type": "code",
   "execution_count": 4,
   "metadata": {},
   "outputs": [],
   "source": [
    "os.chdir('../')"
   ]
  },
  {
   "cell_type": "code",
   "execution_count": 5,
   "metadata": {},
   "outputs": [
    {
     "data": {
      "text/plain": [
       "'c:\\\\Users\\\\slkpd\\\\Name-Entity-Recognition-Using-BERT'"
      ]
     },
     "execution_count": 5,
     "metadata": {},
     "output_type": "execute_result"
    }
   ],
   "source": [
    "pwd"
   ]
  },
  {
   "cell_type": "code",
   "execution_count": 26,
   "metadata": {},
   "outputs": [],
   "source": [
    "from dataclasses import dataclass\n",
    "from pathlib import Path\n",
    "\n",
    "@dataclass(frozen=True)\n",
    "class DataIngestionConfig:\n",
    "    root_dir:Path\n",
    "    source_dataset:str\n",
    "    dataset:Path"
   ]
  },
  {
   "cell_type": "code",
   "execution_count": 12,
   "metadata": {},
   "outputs": [],
   "source": [
    "from src.nerBERT.constants import *\n",
    "from src.nerBERT.utils.common import read_yaml, create_directories"
   ]
  },
  {
   "cell_type": "code",
   "execution_count": 28,
   "metadata": {},
   "outputs": [],
   "source": [
    "class ConfigurationManager:\n",
    "    def __init__(\n",
    "        self,\n",
    "        config_filepath = CONFIG_FILE_PATH,\n",
    "        params_filepath = PARAMS_FILE_PATH):\n",
    "\n",
    "        self.config = read_yaml(config_filepath)\n",
    "        self.params = read_yaml(params_filepath)\n",
    "\n",
    "        create_directories([self.config.artifacts_root])\n",
    "\n",
    "    \n",
    "\n",
    "    def get_data_ingestion_config(self) -> DataIngestionConfig:\n",
    "        config = self.config.data_ingestion\n",
    "\n",
    "        create_directories([config.root_dir])\n",
    "\n",
    "        data_ingestion_config = DataIngestionConfig(\n",
    "            root_dir=config.root_dir,\n",
    "            source_dataset=config.source_dataset,\n",
    "            dataset=config.dataset\n",
    "        )\n",
    "\n",
    "        return data_ingestion_config"
   ]
  },
  {
   "cell_type": "code",
   "execution_count": 25,
   "metadata": {},
   "outputs": [],
   "source": [
    "import os\n",
    "import datasets\n",
    "from src.nerBERT.logging import logger\n",
    "import datasets"
   ]
  },
  {
   "cell_type": "code",
   "execution_count": 30,
   "metadata": {},
   "outputs": [],
   "source": [
    "class DataIngestion:\n",
    "    def __init__(self, config: DataIngestionConfig):\n",
    "        self.config = config\n",
    "\n",
    "\n",
    "    \n",
    "    def data_loading(self):\n",
    "        data = datasets.load_dataset(self.config.source_dataset)\n",
    "        data.save_to_disk(self.config.dataset)\n",
    "\n",
    "        \n",
    "    \n",
    "    "
   ]
  },
  {
   "cell_type": "code",
   "execution_count": 31,
   "metadata": {},
   "outputs": [
    {
     "name": "stdout",
     "output_type": "stream",
     "text": [
      "[2023-10-29 14:38:52,440: INFO: common: yaml file: config\\config.yaml loaded successfully]\n",
      "[2023-10-29 14:38:52,448: INFO: common: yaml file: params.yaml loaded successfully]\n",
      "[2023-10-29 14:38:52,448: INFO: common: created directory at: artifacts]\n",
      "[2023-10-29 14:38:52,453: INFO: common: created directory at: artifacts/data_ingestion]\n"
     ]
    },
    {
     "name": "stderr",
     "output_type": "stream",
     "text": [
      "Downloading builder script: 100%|██████████| 9.57k/9.57k [00:00<00:00, 2.39MB/s]\n",
      "Downloading metadata: 100%|██████████| 3.73k/3.73k [00:00<?, ?B/s]\n",
      "Downloading readme: 100%|██████████| 12.3k/12.3k [00:00<?, ?B/s]\n",
      "Downloading data: 100%|██████████| 983k/983k [00:01<00:00, 527kB/s]  \n",
      "Generating train split:   0%|          | 0/14041 [00:00<?, ? examples/s]"
     ]
    },
    {
     "name": "stdout",
     "output_type": "stream",
     "text": [
      "[2023-10-29 14:39:08,879: INFO: conll2003: ⏳ Generating examples from = C:\\Users\\slkpd\\.cache\\huggingface\\datasets\\downloads\\extracted\\2f8835a5a27c8421ed8518a8b3b1f2da4fc802953238e78caa26c13523fc5200\\train.txt]\n"
     ]
    },
    {
     "name": "stderr",
     "output_type": "stream",
     "text": [
      "--- Logging error ---\n",
      "Traceback (most recent call last):\n",
      "  File \"c:\\Users\\slkpd\\anaconda3\\envs\\NER_BERT\\lib\\logging\\__init__.py\", line 1088, in emit\n",
      "    stream.write(msg + self.terminator)\n",
      "  File \"c:\\Users\\slkpd\\anaconda3\\envs\\NER_BERT\\lib\\encodings\\cp1252.py\", line 19, in encode\n",
      "    return codecs.charmap_encode(input,self.errors,encoding_table)[0]\n",
      "UnicodeEncodeError: 'charmap' codec can't encode character '\\u23f3' in position 43: character maps to <undefined>\n",
      "Call stack:\n",
      "  File \"c:\\Users\\slkpd\\anaconda3\\envs\\NER_BERT\\lib\\runpy.py\", line 194, in _run_module_as_main\n",
      "    return _run_code(code, main_globals, None,\n",
      "  File \"c:\\Users\\slkpd\\anaconda3\\envs\\NER_BERT\\lib\\runpy.py\", line 87, in _run_code\n",
      "    exec(code, run_globals)\n",
      "  File \"c:\\Users\\slkpd\\anaconda3\\envs\\NER_BERT\\lib\\site-packages\\ipykernel_launcher.py\", line 17, in <module>\n",
      "    app.launch_new_instance()\n",
      "  File \"c:\\Users\\slkpd\\anaconda3\\envs\\NER_BERT\\lib\\site-packages\\traitlets\\config\\application.py\", line 1053, in launch_instance\n",
      "    app.start()\n",
      "  File \"c:\\Users\\slkpd\\anaconda3\\envs\\NER_BERT\\lib\\site-packages\\ipykernel\\kernelapp.py\", line 737, in start\n",
      "    self.io_loop.start()\n",
      "  File \"c:\\Users\\slkpd\\anaconda3\\envs\\NER_BERT\\lib\\site-packages\\tornado\\platform\\asyncio.py\", line 215, in start\n",
      "    self.asyncio_loop.run_forever()\n",
      "  File \"c:\\Users\\slkpd\\anaconda3\\envs\\NER_BERT\\lib\\asyncio\\base_events.py\", line 570, in run_forever\n",
      "    self._run_once()\n",
      "  File \"c:\\Users\\slkpd\\anaconda3\\envs\\NER_BERT\\lib\\asyncio\\base_events.py\", line 1859, in _run_once\n",
      "    handle._run()\n",
      "  File \"c:\\Users\\slkpd\\anaconda3\\envs\\NER_BERT\\lib\\asyncio\\events.py\", line 81, in _run\n",
      "    self._context.run(self._callback, *self._args)\n",
      "  File \"c:\\Users\\slkpd\\anaconda3\\envs\\NER_BERT\\lib\\site-packages\\ipykernel\\kernelbase.py\", line 524, in dispatch_queue\n",
      "    await self.process_one()\n",
      "  File \"c:\\Users\\slkpd\\anaconda3\\envs\\NER_BERT\\lib\\site-packages\\ipykernel\\kernelbase.py\", line 513, in process_one\n",
      "    await dispatch(*args)\n",
      "  File \"c:\\Users\\slkpd\\anaconda3\\envs\\NER_BERT\\lib\\site-packages\\ipykernel\\kernelbase.py\", line 418, in dispatch_shell\n",
      "    await result\n",
      "  File \"c:\\Users\\slkpd\\anaconda3\\envs\\NER_BERT\\lib\\site-packages\\ipykernel\\kernelbase.py\", line 758, in execute_request\n",
      "    reply_content = await reply_content\n",
      "  File \"c:\\Users\\slkpd\\anaconda3\\envs\\NER_BERT\\lib\\site-packages\\ipykernel\\ipkernel.py\", line 426, in do_execute\n",
      "    res = shell.run_cell(\n",
      "  File \"c:\\Users\\slkpd\\anaconda3\\envs\\NER_BERT\\lib\\site-packages\\ipykernel\\zmqshell.py\", line 549, in run_cell\n",
      "    return super().run_cell(*args, **kwargs)\n",
      "  File \"c:\\Users\\slkpd\\anaconda3\\envs\\NER_BERT\\lib\\site-packages\\IPython\\core\\interactiveshell.py\", line 3006, in run_cell\n",
      "    result = self._run_cell(\n",
      "  File \"c:\\Users\\slkpd\\anaconda3\\envs\\NER_BERT\\lib\\site-packages\\IPython\\core\\interactiveshell.py\", line 3061, in _run_cell\n",
      "    result = runner(coro)\n",
      "  File \"c:\\Users\\slkpd\\anaconda3\\envs\\NER_BERT\\lib\\site-packages\\IPython\\core\\async_helpers.py\", line 129, in _pseudo_sync_runner\n",
      "    coro.send(None)\n",
      "  File \"c:\\Users\\slkpd\\anaconda3\\envs\\NER_BERT\\lib\\site-packages\\IPython\\core\\interactiveshell.py\", line 3266, in run_cell_async\n",
      "    has_raised = await self.run_ast_nodes(code_ast.body, cell_name,\n",
      "  File \"c:\\Users\\slkpd\\anaconda3\\envs\\NER_BERT\\lib\\site-packages\\IPython\\core\\interactiveshell.py\", line 3445, in run_ast_nodes\n",
      "    if await self.run_code(code, result, async_=asy):\n",
      "  File \"c:\\Users\\slkpd\\anaconda3\\envs\\NER_BERT\\lib\\site-packages\\IPython\\core\\interactiveshell.py\", line 3505, in run_code\n",
      "    exec(code_obj, self.user_global_ns, self.user_ns)\n",
      "  File \"C:\\Users\\slkpd\\AppData\\Local\\Temp\\ipykernel_8644\\808014176.py\", line 5, in <module>\n",
      "    data_ingestion.data_loading()\n",
      "  File \"C:\\Users\\slkpd\\AppData\\Local\\Temp\\ipykernel_8644\\2606018967.py\", line 8, in data_loading\n",
      "    data = datasets.load_dataset(self.config.source_dataset)\n",
      "  File \"c:\\Users\\slkpd\\anaconda3\\envs\\NER_BERT\\lib\\site-packages\\datasets\\load.py\", line 2153, in load_dataset\n",
      "    builder_instance.download_and_prepare(\n",
      "  File \"c:\\Users\\slkpd\\anaconda3\\envs\\NER_BERT\\lib\\site-packages\\datasets\\builder.py\", line 954, in download_and_prepare\n",
      "    self._download_and_prepare(\n",
      "  File \"c:\\Users\\slkpd\\anaconda3\\envs\\NER_BERT\\lib\\site-packages\\datasets\\builder.py\", line 1717, in _download_and_prepare\n",
      "    super()._download_and_prepare(\n",
      "  File \"c:\\Users\\slkpd\\anaconda3\\envs\\NER_BERT\\lib\\site-packages\\datasets\\builder.py\", line 1049, in _download_and_prepare\n",
      "    self._prepare_split(split_generator, **prepare_split_kwargs)\n",
      "  File \"c:\\Users\\slkpd\\anaconda3\\envs\\NER_BERT\\lib\\site-packages\\datasets\\builder.py\", line 1555, in _prepare_split\n",
      "    for job_id, done, content in self._prepare_split_single(\n",
      "  File \"c:\\Users\\slkpd\\anaconda3\\envs\\NER_BERT\\lib\\site-packages\\datasets\\builder.py\", line 1676, in _prepare_split_single\n",
      "    for key, record in generator:\n",
      "  File \"C:\\Users\\slkpd\\.cache\\huggingface\\modules\\datasets_modules\\datasets\\conll2003\\9a4d16a94f8674ba3466315300359b0acd891b68b6c8743ddf60b9c702adce98\\conll2003.py\", line 207, in _generate_examples\n",
      "    logger.info(\"⏳ Generating examples from = %s\", filepath)\n",
      "Message: '⏳ Generating examples from = %s'\n",
      "Arguments: ('C:\\\\Users\\\\slkpd\\\\.cache\\\\huggingface\\\\datasets\\\\downloads\\\\extracted\\\\2f8835a5a27c8421ed8518a8b3b1f2da4fc802953238e78caa26c13523fc5200\\\\train.txt',)\n",
      "Generating train split: 100%|██████████| 14041/14041 [00:02<00:00, 5142.81 examples/s]\n",
      "Generating validation split:   0%|          | 0/3250 [00:00<?, ? examples/s]"
     ]
    },
    {
     "name": "stdout",
     "output_type": "stream",
     "text": [
      "[2023-10-29 14:39:11,612: INFO: conll2003: ⏳ Generating examples from = C:\\Users\\slkpd\\.cache\\huggingface\\datasets\\downloads\\extracted\\2f8835a5a27c8421ed8518a8b3b1f2da4fc802953238e78caa26c13523fc5200\\valid.txt]\n"
     ]
    },
    {
     "name": "stderr",
     "output_type": "stream",
     "text": [
      "--- Logging error ---\n",
      "Traceback (most recent call last):\n",
      "  File \"c:\\Users\\slkpd\\anaconda3\\envs\\NER_BERT\\lib\\logging\\__init__.py\", line 1088, in emit\n",
      "    stream.write(msg + self.terminator)\n",
      "  File \"c:\\Users\\slkpd\\anaconda3\\envs\\NER_BERT\\lib\\encodings\\cp1252.py\", line 19, in encode\n",
      "    return codecs.charmap_encode(input,self.errors,encoding_table)[0]\n",
      "UnicodeEncodeError: 'charmap' codec can't encode character '\\u23f3' in position 43: character maps to <undefined>\n",
      "Call stack:\n",
      "  File \"c:\\Users\\slkpd\\anaconda3\\envs\\NER_BERT\\lib\\runpy.py\", line 194, in _run_module_as_main\n",
      "    return _run_code(code, main_globals, None,\n",
      "  File \"c:\\Users\\slkpd\\anaconda3\\envs\\NER_BERT\\lib\\runpy.py\", line 87, in _run_code\n",
      "    exec(code, run_globals)\n",
      "  File \"c:\\Users\\slkpd\\anaconda3\\envs\\NER_BERT\\lib\\site-packages\\ipykernel_launcher.py\", line 17, in <module>\n",
      "    app.launch_new_instance()\n",
      "  File \"c:\\Users\\slkpd\\anaconda3\\envs\\NER_BERT\\lib\\site-packages\\traitlets\\config\\application.py\", line 1053, in launch_instance\n",
      "    app.start()\n",
      "  File \"c:\\Users\\slkpd\\anaconda3\\envs\\NER_BERT\\lib\\site-packages\\ipykernel\\kernelapp.py\", line 737, in start\n",
      "    self.io_loop.start()\n",
      "  File \"c:\\Users\\slkpd\\anaconda3\\envs\\NER_BERT\\lib\\site-packages\\tornado\\platform\\asyncio.py\", line 215, in start\n",
      "    self.asyncio_loop.run_forever()\n",
      "  File \"c:\\Users\\slkpd\\anaconda3\\envs\\NER_BERT\\lib\\asyncio\\base_events.py\", line 570, in run_forever\n",
      "    self._run_once()\n",
      "  File \"c:\\Users\\slkpd\\anaconda3\\envs\\NER_BERT\\lib\\asyncio\\base_events.py\", line 1859, in _run_once\n",
      "    handle._run()\n",
      "  File \"c:\\Users\\slkpd\\anaconda3\\envs\\NER_BERT\\lib\\asyncio\\events.py\", line 81, in _run\n",
      "    self._context.run(self._callback, *self._args)\n",
      "  File \"c:\\Users\\slkpd\\anaconda3\\envs\\NER_BERT\\lib\\site-packages\\ipykernel\\kernelbase.py\", line 524, in dispatch_queue\n",
      "    await self.process_one()\n",
      "  File \"c:\\Users\\slkpd\\anaconda3\\envs\\NER_BERT\\lib\\site-packages\\ipykernel\\kernelbase.py\", line 513, in process_one\n",
      "    await dispatch(*args)\n",
      "  File \"c:\\Users\\slkpd\\anaconda3\\envs\\NER_BERT\\lib\\site-packages\\ipykernel\\kernelbase.py\", line 418, in dispatch_shell\n",
      "    await result\n",
      "  File \"c:\\Users\\slkpd\\anaconda3\\envs\\NER_BERT\\lib\\site-packages\\ipykernel\\kernelbase.py\", line 758, in execute_request\n",
      "    reply_content = await reply_content\n",
      "  File \"c:\\Users\\slkpd\\anaconda3\\envs\\NER_BERT\\lib\\site-packages\\ipykernel\\ipkernel.py\", line 426, in do_execute\n",
      "    res = shell.run_cell(\n",
      "  File \"c:\\Users\\slkpd\\anaconda3\\envs\\NER_BERT\\lib\\site-packages\\ipykernel\\zmqshell.py\", line 549, in run_cell\n",
      "    return super().run_cell(*args, **kwargs)\n",
      "  File \"c:\\Users\\slkpd\\anaconda3\\envs\\NER_BERT\\lib\\site-packages\\IPython\\core\\interactiveshell.py\", line 3006, in run_cell\n",
      "    result = self._run_cell(\n",
      "  File \"c:\\Users\\slkpd\\anaconda3\\envs\\NER_BERT\\lib\\site-packages\\IPython\\core\\interactiveshell.py\", line 3061, in _run_cell\n",
      "    result = runner(coro)\n",
      "  File \"c:\\Users\\slkpd\\anaconda3\\envs\\NER_BERT\\lib\\site-packages\\IPython\\core\\async_helpers.py\", line 129, in _pseudo_sync_runner\n",
      "    coro.send(None)\n",
      "  File \"c:\\Users\\slkpd\\anaconda3\\envs\\NER_BERT\\lib\\site-packages\\IPython\\core\\interactiveshell.py\", line 3266, in run_cell_async\n",
      "    has_raised = await self.run_ast_nodes(code_ast.body, cell_name,\n",
      "  File \"c:\\Users\\slkpd\\anaconda3\\envs\\NER_BERT\\lib\\site-packages\\IPython\\core\\interactiveshell.py\", line 3445, in run_ast_nodes\n",
      "    if await self.run_code(code, result, async_=asy):\n",
      "  File \"c:\\Users\\slkpd\\anaconda3\\envs\\NER_BERT\\lib\\site-packages\\IPython\\core\\interactiveshell.py\", line 3505, in run_code\n",
      "    exec(code_obj, self.user_global_ns, self.user_ns)\n",
      "  File \"C:\\Users\\slkpd\\AppData\\Local\\Temp\\ipykernel_8644\\808014176.py\", line 5, in <module>\n",
      "    data_ingestion.data_loading()\n",
      "  File \"C:\\Users\\slkpd\\AppData\\Local\\Temp\\ipykernel_8644\\2606018967.py\", line 8, in data_loading\n",
      "    data = datasets.load_dataset(self.config.source_dataset)\n",
      "  File \"c:\\Users\\slkpd\\anaconda3\\envs\\NER_BERT\\lib\\site-packages\\datasets\\load.py\", line 2153, in load_dataset\n",
      "    builder_instance.download_and_prepare(\n",
      "  File \"c:\\Users\\slkpd\\anaconda3\\envs\\NER_BERT\\lib\\site-packages\\datasets\\builder.py\", line 954, in download_and_prepare\n",
      "    self._download_and_prepare(\n",
      "  File \"c:\\Users\\slkpd\\anaconda3\\envs\\NER_BERT\\lib\\site-packages\\datasets\\builder.py\", line 1717, in _download_and_prepare\n",
      "    super()._download_and_prepare(\n",
      "  File \"c:\\Users\\slkpd\\anaconda3\\envs\\NER_BERT\\lib\\site-packages\\datasets\\builder.py\", line 1049, in _download_and_prepare\n",
      "    self._prepare_split(split_generator, **prepare_split_kwargs)\n",
      "  File \"c:\\Users\\slkpd\\anaconda3\\envs\\NER_BERT\\lib\\site-packages\\datasets\\builder.py\", line 1555, in _prepare_split\n",
      "    for job_id, done, content in self._prepare_split_single(\n",
      "  File \"c:\\Users\\slkpd\\anaconda3\\envs\\NER_BERT\\lib\\site-packages\\datasets\\builder.py\", line 1676, in _prepare_split_single\n",
      "    for key, record in generator:\n",
      "  File \"C:\\Users\\slkpd\\.cache\\huggingface\\modules\\datasets_modules\\datasets\\conll2003\\9a4d16a94f8674ba3466315300359b0acd891b68b6c8743ddf60b9c702adce98\\conll2003.py\", line 207, in _generate_examples\n",
      "    logger.info(\"⏳ Generating examples from = %s\", filepath)\n",
      "Message: '⏳ Generating examples from = %s'\n",
      "Arguments: ('C:\\\\Users\\\\slkpd\\\\.cache\\\\huggingface\\\\datasets\\\\downloads\\\\extracted\\\\2f8835a5a27c8421ed8518a8b3b1f2da4fc802953238e78caa26c13523fc5200\\\\valid.txt',)\n",
      "Generating validation split: 100%|██████████| 3250/3250 [00:00<00:00, 4828.38 examples/s]\n",
      "Generating test split:   0%|          | 0/3453 [00:00<?, ? examples/s]"
     ]
    },
    {
     "name": "stdout",
     "output_type": "stream",
     "text": [
      "[2023-10-29 14:39:12,290: INFO: conll2003: ⏳ Generating examples from = C:\\Users\\slkpd\\.cache\\huggingface\\datasets\\downloads\\extracted\\2f8835a5a27c8421ed8518a8b3b1f2da4fc802953238e78caa26c13523fc5200\\test.txt]\n"
     ]
    },
    {
     "name": "stderr",
     "output_type": "stream",
     "text": [
      "--- Logging error ---\n",
      "Traceback (most recent call last):\n",
      "  File \"c:\\Users\\slkpd\\anaconda3\\envs\\NER_BERT\\lib\\logging\\__init__.py\", line 1088, in emit\n",
      "    stream.write(msg + self.terminator)\n",
      "  File \"c:\\Users\\slkpd\\anaconda3\\envs\\NER_BERT\\lib\\encodings\\cp1252.py\", line 19, in encode\n",
      "    return codecs.charmap_encode(input,self.errors,encoding_table)[0]\n",
      "UnicodeEncodeError: 'charmap' codec can't encode character '\\u23f3' in position 43: character maps to <undefined>\n",
      "Call stack:\n",
      "  File \"c:\\Users\\slkpd\\anaconda3\\envs\\NER_BERT\\lib\\runpy.py\", line 194, in _run_module_as_main\n",
      "    return _run_code(code, main_globals, None,\n",
      "  File \"c:\\Users\\slkpd\\anaconda3\\envs\\NER_BERT\\lib\\runpy.py\", line 87, in _run_code\n",
      "    exec(code, run_globals)\n",
      "  File \"c:\\Users\\slkpd\\anaconda3\\envs\\NER_BERT\\lib\\site-packages\\ipykernel_launcher.py\", line 17, in <module>\n",
      "    app.launch_new_instance()\n",
      "  File \"c:\\Users\\slkpd\\anaconda3\\envs\\NER_BERT\\lib\\site-packages\\traitlets\\config\\application.py\", line 1053, in launch_instance\n",
      "    app.start()\n",
      "  File \"c:\\Users\\slkpd\\anaconda3\\envs\\NER_BERT\\lib\\site-packages\\ipykernel\\kernelapp.py\", line 737, in start\n",
      "    self.io_loop.start()\n",
      "  File \"c:\\Users\\slkpd\\anaconda3\\envs\\NER_BERT\\lib\\site-packages\\tornado\\platform\\asyncio.py\", line 215, in start\n",
      "    self.asyncio_loop.run_forever()\n",
      "  File \"c:\\Users\\slkpd\\anaconda3\\envs\\NER_BERT\\lib\\asyncio\\base_events.py\", line 570, in run_forever\n",
      "    self._run_once()\n",
      "  File \"c:\\Users\\slkpd\\anaconda3\\envs\\NER_BERT\\lib\\asyncio\\base_events.py\", line 1859, in _run_once\n",
      "    handle._run()\n",
      "  File \"c:\\Users\\slkpd\\anaconda3\\envs\\NER_BERT\\lib\\asyncio\\events.py\", line 81, in _run\n",
      "    self._context.run(self._callback, *self._args)\n",
      "  File \"c:\\Users\\slkpd\\anaconda3\\envs\\NER_BERT\\lib\\site-packages\\ipykernel\\kernelbase.py\", line 524, in dispatch_queue\n",
      "    await self.process_one()\n",
      "  File \"c:\\Users\\slkpd\\anaconda3\\envs\\NER_BERT\\lib\\site-packages\\ipykernel\\kernelbase.py\", line 513, in process_one\n",
      "    await dispatch(*args)\n",
      "  File \"c:\\Users\\slkpd\\anaconda3\\envs\\NER_BERT\\lib\\site-packages\\ipykernel\\kernelbase.py\", line 418, in dispatch_shell\n",
      "    await result\n",
      "  File \"c:\\Users\\slkpd\\anaconda3\\envs\\NER_BERT\\lib\\site-packages\\ipykernel\\kernelbase.py\", line 758, in execute_request\n",
      "    reply_content = await reply_content\n",
      "  File \"c:\\Users\\slkpd\\anaconda3\\envs\\NER_BERT\\lib\\site-packages\\ipykernel\\ipkernel.py\", line 426, in do_execute\n",
      "    res = shell.run_cell(\n",
      "  File \"c:\\Users\\slkpd\\anaconda3\\envs\\NER_BERT\\lib\\site-packages\\ipykernel\\zmqshell.py\", line 549, in run_cell\n",
      "    return super().run_cell(*args, **kwargs)\n",
      "  File \"c:\\Users\\slkpd\\anaconda3\\envs\\NER_BERT\\lib\\site-packages\\IPython\\core\\interactiveshell.py\", line 3006, in run_cell\n",
      "    result = self._run_cell(\n",
      "  File \"c:\\Users\\slkpd\\anaconda3\\envs\\NER_BERT\\lib\\site-packages\\IPython\\core\\interactiveshell.py\", line 3061, in _run_cell\n",
      "    result = runner(coro)\n",
      "  File \"c:\\Users\\slkpd\\anaconda3\\envs\\NER_BERT\\lib\\site-packages\\IPython\\core\\async_helpers.py\", line 129, in _pseudo_sync_runner\n",
      "    coro.send(None)\n",
      "  File \"c:\\Users\\slkpd\\anaconda3\\envs\\NER_BERT\\lib\\site-packages\\IPython\\core\\interactiveshell.py\", line 3266, in run_cell_async\n",
      "    has_raised = await self.run_ast_nodes(code_ast.body, cell_name,\n",
      "  File \"c:\\Users\\slkpd\\anaconda3\\envs\\NER_BERT\\lib\\site-packages\\IPython\\core\\interactiveshell.py\", line 3445, in run_ast_nodes\n",
      "    if await self.run_code(code, result, async_=asy):\n",
      "  File \"c:\\Users\\slkpd\\anaconda3\\envs\\NER_BERT\\lib\\site-packages\\IPython\\core\\interactiveshell.py\", line 3505, in run_code\n",
      "    exec(code_obj, self.user_global_ns, self.user_ns)\n",
      "  File \"C:\\Users\\slkpd\\AppData\\Local\\Temp\\ipykernel_8644\\808014176.py\", line 5, in <module>\n",
      "    data_ingestion.data_loading()\n",
      "  File \"C:\\Users\\slkpd\\AppData\\Local\\Temp\\ipykernel_8644\\2606018967.py\", line 8, in data_loading\n",
      "    data = datasets.load_dataset(self.config.source_dataset)\n",
      "  File \"c:\\Users\\slkpd\\anaconda3\\envs\\NER_BERT\\lib\\site-packages\\datasets\\load.py\", line 2153, in load_dataset\n",
      "    builder_instance.download_and_prepare(\n",
      "  File \"c:\\Users\\slkpd\\anaconda3\\envs\\NER_BERT\\lib\\site-packages\\datasets\\builder.py\", line 954, in download_and_prepare\n",
      "    self._download_and_prepare(\n",
      "  File \"c:\\Users\\slkpd\\anaconda3\\envs\\NER_BERT\\lib\\site-packages\\datasets\\builder.py\", line 1717, in _download_and_prepare\n",
      "    super()._download_and_prepare(\n",
      "  File \"c:\\Users\\slkpd\\anaconda3\\envs\\NER_BERT\\lib\\site-packages\\datasets\\builder.py\", line 1049, in _download_and_prepare\n",
      "    self._prepare_split(split_generator, **prepare_split_kwargs)\n",
      "  File \"c:\\Users\\slkpd\\anaconda3\\envs\\NER_BERT\\lib\\site-packages\\datasets\\builder.py\", line 1555, in _prepare_split\n",
      "    for job_id, done, content in self._prepare_split_single(\n",
      "  File \"c:\\Users\\slkpd\\anaconda3\\envs\\NER_BERT\\lib\\site-packages\\datasets\\builder.py\", line 1676, in _prepare_split_single\n",
      "    for key, record in generator:\n",
      "  File \"C:\\Users\\slkpd\\.cache\\huggingface\\modules\\datasets_modules\\datasets\\conll2003\\9a4d16a94f8674ba3466315300359b0acd891b68b6c8743ddf60b9c702adce98\\conll2003.py\", line 207, in _generate_examples\n",
      "    logger.info(\"⏳ Generating examples from = %s\", filepath)\n",
      "Message: '⏳ Generating examples from = %s'\n",
      "Arguments: ('C:\\\\Users\\\\slkpd\\\\.cache\\\\huggingface\\\\datasets\\\\downloads\\\\extracted\\\\2f8835a5a27c8421ed8518a8b3b1f2da4fc802953238e78caa26c13523fc5200\\\\test.txt',)\n",
      "Generating test split: 100%|██████████| 3453/3453 [00:00<00:00, 5509.37 examples/s]\n",
      "Saving the dataset (1/1 shards): 100%|██████████| 14041/14041 [00:00<00:00, 427005.87 examples/s]\n",
      "Saving the dataset (1/1 shards): 100%|██████████| 3250/3250 [00:00<00:00, 238450.29 examples/s]\n",
      "Saving the dataset (1/1 shards): 100%|██████████| 3453/3453 [00:00<00:00, 216318.13 examples/s]\n"
     ]
    }
   ],
   "source": [
    "try:\n",
    "    config = ConfigurationManager()\n",
    "    data_ingestion_config = config.get_data_ingestion_config()\n",
    "    data_ingestion = DataIngestion(config=data_ingestion_config)\n",
    "    data_ingestion.data_loading()\n",
    "except Exception as e:\n",
    "    raise e"
   ]
  },
  {
   "cell_type": "code",
   "execution_count": null,
   "metadata": {},
   "outputs": [],
   "source": []
  }
 ],
 "metadata": {
  "kernelspec": {
   "display_name": "NER_BERT",
   "language": "python",
   "name": "python3"
  },
  "language_info": {
   "codemirror_mode": {
    "name": "ipython",
    "version": 3
   },
   "file_extension": ".py",
   "mimetype": "text/x-python",
   "name": "python",
   "nbconvert_exporter": "python",
   "pygments_lexer": "ipython3",
   "version": "3.8.18"
  }
 },
 "nbformat": 4,
 "nbformat_minor": 2
}
